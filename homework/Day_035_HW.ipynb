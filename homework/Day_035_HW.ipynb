{
 "cells": [
  {
   "cell_type": "markdown",
   "metadata": {},
   "source": [
    "## 練習時間\n",
    "相信大家對回歸問題及分類問題都有初步的了解。今天的作業希望大家搜尋有關 multi-label 的案例問題。下圖是電影 \"奇異博士\" 的分類。可以看到同時有 \"Action\", \"Adventure\", \"Fantasy\" 的類別存在，代表這是個多標籤的問題。 "
   ]
  },
  {
   "cell_type": "markdown",
   "metadata": {},
   "source": [
    "![image](https://cdn-images-1.medium.com/max/1000/1*r0gYXMSQf5VhdMyl2bRDyg.png)"
   ]
  },
  {
   "cell_type": "markdown",
   "metadata": {},
   "source": [
    "## 請搜尋目標為多標籤問題 (Multi-label) 的機器學習案例，了解其資料來源、目標以及評估指標為何\n",
    "## Hint: 服飾"
   ]
  },
  {
   "cell_type": "markdown",
   "metadata": {},
   "source": [
    "> 學習案例: [Solving Multi-Label Classification problems (Case studies included)](https://www.analyticsvidhya.com/blog/2017/08/introduction-to-multi-label-classification) <br>\n",
    "> 資料來源: (MULAN)yeast [Mulan: A Java Library for Multi-Label Learning - Dataset](http://mulan.sourceforge.net/datasets-mlc.html)<br>\n",
    "> 目標: 酵母菌特性多標籤分類 Att1~Att103 => Class1 ~ Class14 <br>\n",
    "> 評估指標: Accuracy classification score <br>\n",
    "> 特點: multi-label轉換為multi-class問題     transform our multi-label problem into single-label problem(s).<br>\n",
    ">> Problem tranform: <br>\n",
    ">> - Binary Relevance\n",
    ">> - Classifier Chains\n",
    ">> - Label Powerset\n",
    "\n",
    "\n",
    "[//]: 其他隱藏資料(不顯示)\n",
    "[comment]: [解决多标签分类问题(包括案例研究)](http://www.atyun.com/5376.html)<br>\n",
    "[//]: [解决多标签分类问题(包括案例研究)](http://www.atyun.com/5376.html)<br>\n",
    "\n",
    "[comment]: [如何让机器向“时尚达人”学习？阿里做了个“实用”的图像数据集](https://102.alibaba.com/detail/?id=139)<br>\n"
   ]
  },
  {
   "cell_type": "code",
   "execution_count": null,
   "metadata": {},
   "outputs": [],
   "source": []
  }
 ],
 "metadata": {
  "kernelspec": {
   "display_name": "Python 3",
   "language": "python",
   "name": "python3"
  },
  "language_info": {
   "codemirror_mode": {
    "name": "ipython",
    "version": 3
   },
   "file_extension": ".py",
   "mimetype": "text/x-python",
   "name": "python",
   "nbconvert_exporter": "python",
   "pygments_lexer": "ipython3",
   "version": "3.7.0"
  }
 },
 "nbformat": 4,
 "nbformat_minor": 2
}
