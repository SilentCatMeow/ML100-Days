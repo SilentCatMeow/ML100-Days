{
 "cells": [
  {
   "cell_type": "markdown",
   "metadata": {},
   "source": [
    "## 作業"
   ]
  },
  {
   "cell_type": "markdown",
   "metadata": {},
   "source": [
    "請閱讀以下相關文獻，並回答以下問題\n",
    "\n",
    "[Linear Regression 詳細介紹](https://medium.com/@yehjames/%E8%B3%87%E6%96%99%E5%88%86%E6%9E%90-%E6%A9%9F%E5%99%A8%E5%AD%B8%E7%BF%92-%E7%AC%AC3-3%E8%AC%9B-%E7%B7%9A%E6%80%A7%E5%88%86%E9%A1%9E-%E9%82%8F%E8%BC%AF%E6%96%AF%E5%9B%9E%E6%AD%B8-logistic-regression-%E4%BB%8B%E7%B4%B9-a1a5f47017e5)\n",
    "\n",
    "[Logistics Regression 詳細介紹](https://medium.com/@yehjames/%E8%B3%87%E6%96%99%E5%88%86%E6%9E%90-%E6%A9%9F%E5%99%A8%E5%AD%B8%E7%BF%92-%E7%AC%AC3-3%E8%AC%9B-%E7%B7%9A%E6%80%A7%E5%88%86%E9%A1%9E-%E9%82%8F%E8%BC%AF%E6%96%AF%E5%9B%9E%E6%AD%B8-logistic-regression-%E4%BB%8B%E7%B4%B9-a1a5f47017e5)\n",
    "\n",
    "[你可能不知道的 Logisitc Regression](https://taweihuang.hpd.io/2017/12/22/logreg101/)\n"
   ]
  },
  {
   "cell_type": "markdown",
   "metadata": {},
   "source": [
    "1. 線性回歸模型能夠準確預測非線性關係的資料集嗎?\n",
    "2. 回歸模型是否對資料分布有基本假設?\n"
   ]
  },
  {
   "cell_type": "markdown",
   "metadata": {},
   "source": [
    "1. 線性回歸模型能夠準確預測非線性關係的資料集嗎?\n",
    "> 簡單線性回歸模型無法適度表達及預測非線性關係資料集<br>\n",
    "> 但下文段落(化非線性回歸為線性回歸)中表示 非線性回歸可以轉換為線性回歸問題，廣義線性回歸模型仍可預測非線性關係的資料集<br>\n",
    "> ref : [非線性回歸預測法](https://wiki.mbalib.com/zh-tw/非线性回归预测法) <br>\n",
    "> ref : [迴歸分類與要點－廣義線性模型 (Generalized linear model)Regression family](http://http://dasanlin888.pixnet.net/blog/post/34469027) <br>\n",
    "> ref : [廣義線性模型觀點：統計迴歸分析(REGRESSION)的基本原理與結構](https://molecular-service-science.com/2012/09/12/statistics-regression/)  <br>\n",
    "\n",
    "\n",
    "2. 回歸模型是否對資料分布有基本假設?\n",
    "> 線性回歸模型假設\n",
    "    - 採用最小方差做為誤差函數，資料分布應符合常態分佈\n",
    ">     \n",
    "> 邏輯斯回歸假設\n",
    "    - 基於機率假設做為誤差函數估計，資料分布和二項式機率分佈有相關\n",
    ">\n",
    "> ref: [线性回归要求因变量服从正态分布](https://blog.csdn.net/u010462995/article/details/70847146) <br>\n",
    "> ref: [进行 OLS 回归（变量不一定线性）的前提条件是什么？](https://www.zhihu.com/question/29557842) <br>\n",
    "> ref: [Logistic Regression](http://biostatdept.cmu.edu.tw/doc/epaper_a/paper/teaching_corner_050-1.pdf) <br>\n",
    "> ref: [Logistic Regression](https://ml-cheatsheet.readthedocs.io/en/latest/logistic_regression.html) <br>\n",
    "> ref: [迴歸分析](http://www.gotop.com.tw/epaper/e0719/AEM000900n.pdf) <br>\n",
    "> ref: [\\[求助\\]线性回归与Logistic回归中的两个基础性问题](https://d.cosx.org/d/108414-108414/4)  \n",
    ">> logistic regression中并没有假定Y服从同一个二项分布。假设有N个样本，模型优化的likelihood function是N个二项分布的乘积。\n",
    "\n",
    "[comment]: https://books.google.com.tw/books?id=JbZ2DwAAQBAJ&pg=PA21&lpg=PA21&dq=%E5%9B%9E%E5%BD%92%E6%A8%A1%E5%9E%8B+%E8%B3%87%E6%96%99%E5%88%86%E5%B8%83+%E5%89%8D%E6%8F%90%E5%81%87%E8%AE%BE%E6%98%AF%E4%BB%80%E4%B9%88&source=bl&ots=95Ew-db019&sig=ACfU3U2zgZFffNyYzsxM8TIibD0voIIXlQ&hl=zh-TW&sa=X&ved=2ahUKEwjkouOuz7LgAhVIzbwKHfNWDXIQ6AEwCXoECAIQAQ#v=onepage&q=%E5%9B%9E%E5%BD%92%E6%A8%A1%E5%9E%8B%20%E8%B3%87%E6%96%99%E5%88%86%E5%B8%83%20%E5%89%8D%E6%8F%90%E5%81%87%E8%AE%BE%E6%98%AF%E4%BB%80%E4%B9%88&f=false\n"
   ]
  },
  {
   "cell_type": "code",
   "execution_count": null,
   "metadata": {},
   "outputs": [],
   "source": []
  }
 ],
 "metadata": {
  "kernelspec": {
   "display_name": "Python 3",
   "language": "python",
   "name": "python3"
  },
  "language_info": {
   "codemirror_mode": {
    "name": "ipython",
    "version": 3
   },
   "file_extension": ".py",
   "mimetype": "text/x-python",
   "name": "python",
   "nbconvert_exporter": "python",
   "pygments_lexer": "ipython3",
   "version": "3.7.0"
  }
 },
 "nbformat": 4,
 "nbformat_minor": 2
}
