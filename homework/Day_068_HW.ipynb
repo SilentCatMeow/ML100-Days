{
 "cells": [
  {
   "cell_type": "code",
   "execution_count": 1,
   "metadata": {},
   "outputs": [
    {
     "name": "stderr",
     "output_type": "stream",
     "text": [
      "Using TensorFlow backend.\n"
     ]
    }
   ],
   "source": [
    "# 載入必須使用的 Library\n",
    "import keras\n",
    "from keras.datasets import cifar10\n",
    "from keras.models import Sequential, load_model\n",
    "from keras.layers import Dense, Dropout, Activation, Flatten\n",
    "from keras.layers import Conv2D, MaxPooling2D\n"
   ]
  },
  {
   "cell_type": "markdown",
   "metadata": {},
   "source": [
    "# 作業:\n",
    "請修改input shape: (Conv2D(64, (3, 3))的設定, 新增一層 Dense 並觀看 model.summary 的輸出"
   ]
  },
  {
   "cell_type": "code",
   "execution_count": 2,
   "metadata": {},
   "outputs": [],
   "source": [
    "#batch_size = 16\n",
    "batch_size = 128\n",
    "num_classes = 10\n",
    "epochs = 10\n",
    "\n",
    "# The data, shuffled and split between train and test sets:\n",
    "(x_train, y_train), (x_test, y_test) = cifar10.load_data()"
   ]
  },
  {
   "cell_type": "code",
   "execution_count": 3,
   "metadata": {},
   "outputs": [
    {
     "name": "stdout",
     "output_type": "stream",
     "text": [
      "(50000, 32, 32, 3)\n",
      "(50000, 1)\n",
      "(32, 32, 3)\n"
     ]
    }
   ],
   "source": [
    "print(x_train.shape)\n",
    "print(y_train.shape)\n",
    "print(x_train.shape[1:])"
   ]
  },
  {
   "cell_type": "code",
   "execution_count": 4,
   "metadata": {},
   "outputs": [],
   "source": [
    "#Convert class vectors to binary class matrices.\n",
    "y_train = keras.utils.to_categorical(y_train, num_classes)\n",
    "y_test = keras.utils.to_categorical(y_test, num_classes)\n",
    "\n",
    "x_train = x_train.astype('float32') / 255.0\n",
    "x_test = x_test.astype('float32') / 255.0"
   ]
  },
  {
   "cell_type": "code",
   "execution_count": 5,
   "metadata": {},
   "outputs": [
    {
     "name": "stdout",
     "output_type": "stream",
     "text": [
      "_________________________________________________________________\n",
      "Layer (type)                 Output Shape              Param #   \n",
      "=================================================================\n",
      "conv2d_1 (Conv2D)            (None, 32, 32, 64)        1792      \n",
      "_________________________________________________________________\n",
      "flatten_1 (Flatten)          (None, 65536)             0         \n",
      "_________________________________________________________________\n",
      "dense_1 (Dense)              (None, 512)               33554944  \n",
      "_________________________________________________________________\n",
      "dense_2 (Dense)              (None, 256)               131328    \n",
      "_________________________________________________________________\n",
      "activation_1 (Activation)    (None, 256)               0         \n",
      "_________________________________________________________________\n",
      "dropout_1 (Dropout)          (None, 256)               0         \n",
      "_________________________________________________________________\n",
      "dense_3 (Dense)              (None, 10)                2570      \n",
      "_________________________________________________________________\n",
      "activation_2 (Activation)    (None, 10)                0         \n",
      "=================================================================\n",
      "Total params: 33,690,634\n",
      "Trainable params: 33,690,634\n",
      "Non-trainable params: 0\n",
      "_________________________________________________________________\n",
      "None\n"
     ]
    }
   ],
   "source": [
    "# build our CNN model, 多加幾層\n",
    "\n",
    "model = Sequential()\n",
    "model.add(Conv2D(64, (3, 3), padding='same',\n",
    "                 input_shape=x_train.shape[1:]))\n",
    "model.add(Flatten())\n",
    "model.add(Dense(512))\n",
    "\n",
    "model.add(Dense(256))\n",
    "\n",
    "model.add(Activation('relu'))\n",
    "\n",
    "model.add(Dropout(0.5))\n",
    "model.add(Dense(num_classes))\n",
    "model.add(Activation('softmax'))\n",
    "\n",
    "# ref: https://github.com/keras-team/keras/blob/master/examples/cifar10_cnn.py\n",
    "#\n",
    "#model = Sequential()\n",
    "#model.add(Conv2D(32, (3, 3), padding='same',\n",
    "#                 input_shape=x_train.shape[1:]))\n",
    "#model.add(Activation('relu'))\n",
    "#model.add(Conv2D(32, (3, 3)))\n",
    "#model.add(Activation('relu'))\n",
    "#model.add(MaxPooling2D(pool_size=(2, 2)))\n",
    "#model.add(Dropout(0.25))\n",
    "#\n",
    "#model.add(Conv2D(64, (3, 3), padding='same'))\n",
    "#model.add(Activation('relu'))\n",
    "#model.add(Conv2D(64, (3, 3)))\n",
    "#model.add(Activation('relu'))\n",
    "#model.add(MaxPooling2D(pool_size=(2, 2)))\n",
    "#model.add(Dropout(0.25))\n",
    "#\n",
    "#model.add(Flatten())\n",
    "#model.add(Dense(512))\n",
    "#model.add(Activation('relu'))\n",
    "#model.add(Dropout(0.5))\n",
    "#model.add(Dense(num_classes))\n",
    "#model.add(Activation('softmax'))\n",
    "\n",
    "print(model.summary())"
   ]
  },
  {
   "cell_type": "code",
   "execution_count": 6,
   "metadata": {},
   "outputs": [
    {
     "name": "stdout",
     "output_type": "stream",
     "text": [
      "Train on 40000 samples, validate on 10000 samples\n",
      "Epoch 1/10\n",
      "40000/40000 [==============================] - 216s 5ms/step - loss: 2.8077 - acc: 0.2200 - val_loss: 1.8832 - val_acc: 0.3216\n",
      "Epoch 2/10\n",
      "40000/40000 [==============================] - 238s 6ms/step - loss: 1.9607 - acc: 0.2791 - val_loss: 1.7997 - val_acc: 0.3683\n",
      "Epoch 3/10\n",
      "40000/40000 [==============================] - 223s 6ms/step - loss: 1.8696 - acc: 0.3211 - val_loss: 1.7398 - val_acc: 0.3934\n",
      "Epoch 4/10\n",
      "40000/40000 [==============================] - 220s 6ms/step - loss: 1.8093 - acc: 0.3488 - val_loss: 1.7133 - val_acc: 0.4010\n",
      "Epoch 5/10\n",
      "40000/40000 [==============================] - 216s 5ms/step - loss: 1.7604 - acc: 0.3710 - val_loss: 1.6711 - val_acc: 0.4180\n",
      "Epoch 6/10\n",
      "40000/40000 [==============================] - 249s 6ms/step - loss: 1.7175 - acc: 0.3850 - val_loss: 1.6510 - val_acc: 0.4228\n",
      "Epoch 7/10\n",
      "40000/40000 [==============================] - 218s 5ms/step - loss: 1.6831 - acc: 0.3973 - val_loss: 1.6522 - val_acc: 0.4159\n",
      "Epoch 8/10\n",
      "40000/40000 [==============================] - 221s 6ms/step - loss: 1.6469 - acc: 0.4112 - val_loss: 1.6783 - val_acc: 0.4155\n",
      "Epoch 9/10\n",
      "40000/40000 [==============================] - 223s 6ms/step - loss: 1.6261 - acc: 0.4214 - val_loss: 1.6139 - val_acc: 0.4377\n",
      "Epoch 10/10\n",
      "40000/40000 [==============================] - 228s 6ms/step - loss: 1.6071 - acc: 0.4281 - val_loss: 1.6506 - val_acc: 0.4215\n",
      "10000/10000 [==============================] - 15s 1ms/step\n",
      "Test accuracy: 0.4289\n"
     ]
    }
   ],
   "source": [
    "# initiate Adam optimizer\n",
    "opt = keras.optimizers.Adam()\n",
    "\n",
    "# Let's train the model using Adam\n",
    "model.compile(loss='categorical_crossentropy',optimizer=opt,metrics=['accuracy'])\n",
    "\n",
    "model_history = model.fit(x_train, y_train, validation_split=0.2, epochs=epochs, batch_size=batch_size, verbose=1)  \n",
    "\n",
    "# Score trained model.\n",
    "scores = model.evaluate(x_test, y_test, verbose=1)\n",
    "print('Test accuracy:', scores[1])"
   ]
  }
 ],
 "metadata": {
  "kernelspec": {
   "display_name": "Python 3",
   "language": "python",
   "name": "python3"
  },
  "language_info": {
   "codemirror_mode": {
    "name": "ipython",
    "version": 3
   },
   "file_extension": ".py",
   "mimetype": "text/x-python",
   "name": "python",
   "nbconvert_exporter": "python",
   "pygments_lexer": "ipython3",
   "version": "3.6.8"
  }
 },
 "nbformat": 4,
 "nbformat_minor": 2
}
