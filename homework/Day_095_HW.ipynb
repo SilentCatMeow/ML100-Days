{
 "cells": [
  {
   "cell_type": "markdown",
   "metadata": {},
   "source": [
    "# 教學目標:\n",
    "    了解 Padding 的作法\n",
    "    \n",
    "    了解 Pooling 的作法"
   ]
  },
  {
   "cell_type": "markdown",
   "metadata": {},
   "source": [
    "# 範例說明:\n",
    "    (1)zero_pad - feature map 跟原圖的比對\n",
    "    \n",
    "    (2)pool_forward - 前行網路的 pooling layer"
   ]
  },
  {
   "cell_type": "markdown",
   "metadata": {},
   "source": [
    "# 作業:\n",
    "    (1) 調整Padding 的設定, 看 Pad 後的結果\n",
    "    \n",
    "    (2) 調整Pooling 的設定, 看 Pooling 後的結果"
   ]
  },
  {
   "cell_type": "code",
   "execution_count": 1,
   "metadata": {},
   "outputs": [],
   "source": [
    "import numpy as np\n",
    "import h5py\n",
    "import matplotlib.pyplot as plt\n",
    "\n",
    "# 繪圖結果直接顯示在Jupyter cell 之內\n",
    "%matplotlib inline  \n",
    "plt.rcParams['figure.figsize'] = (5.0, 4.0) #  設定繪圖板的大小\n",
    "plt.rcParams['image.interpolation'] = 'nearest'\n",
    "plt.rcParams['image.cmap'] = 'gray'\n",
    "\n",
    "# autoreload。可以讓我們不退出IPython就動態修改代碼，在執行代碼前IPython會幫我們自動重載改動的模塊\n",
    "%load_ext autoreload\n",
    "%autoreload 2\n",
    "np.random.seed(1)"
   ]
  },
  {
   "cell_type": "code",
   "execution_count": 2,
   "metadata": {},
   "outputs": [],
   "source": [
    "# GRADED FUNCTION: zero_pad\n",
    "def zero_pad(X, pad):\n",
    "    \"\"\"\n",
    "    對image X 做 zero-padding. \n",
    "    參數定義如下:\n",
    "    X -- python numpy array, 呈現維度 (m, n_H, n_W, n_C), 代表一批 m 個圖像\n",
    "         n_H: 圖高, n_W: 圖寬, n_C: color channels 數\n",
    "    pad -- 整數, 加幾圈的 zero padding.\n",
    "    Returns:\n",
    "    X_pad -- image of shape (m, n_H + 2*pad, n_W + 2*pad, n_C) 做完zero-padding 的結果\n",
    "    \"\"\"\n",
    "    \n",
    "    X_pad = np.pad(X, ((0, 0), (pad, pad), (pad, pad), (0, 0)), 'constant', constant_values=(0, 0))\n",
    "  \n",
    "    return X_pad"
   ]
  },
  {
   "cell_type": "code",
   "execution_count": 3,
   "metadata": {},
   "outputs": [
    {
     "name": "stdout",
     "output_type": "stream",
     "text": [
      "[[1 2]\n",
      " [3 4]\n",
      " [5 6]]\n",
      "(3, 2)\n"
     ]
    }
   ],
   "source": [
    "import numpy\n",
    "\n",
    "change_array = numpy.array([1,2,3,4,5,6])\n",
    "change_array.shape = (3, 2)\n",
    "print(change_array) \n",
    "print(change_array.shape)"
   ]
  },
  {
   "cell_type": "code",
   "execution_count": 4,
   "metadata": {},
   "outputs": [
    {
     "name": "stdout",
     "output_type": "stream",
     "text": [
      "(1, 3, 3, 1)\n",
      "x.shape = (1, 3, 3, 1)\n",
      "x_pad.shape = (1, 7, 7, 1)\n",
      "x[0,1,1,0] = 0.8654076293246785\n",
      "x_pad[0,1,1,0] = 0.0\n"
     ]
    },
    {
     "data": {
      "text/plain": [
       "<matplotlib.image.AxesImage at 0x1b9d9d907f0>"
      ]
     },
     "execution_count": 4,
     "metadata": {},
     "output_type": "execute_result"
    },
    {
     "data": {
      "image/png": "[encoded data removed]",
      "text/plain": [
       "<Figure size 432x288 with 2 Axes>"
      ]
     },
     "metadata": {
      "needs_background": "light"
     },
     "output_type": "display_data"
    }
   ],
   "source": [
    "'''\n",
    "seed( ) 用於指定隨機數生成時所用算法開始的整數值，\n",
    "如果使用相同的seed( )值，則每次生成的隨即數都相同，\n",
    "如果不設置這個值，則係統根據時間來自己選擇這個值，\n",
    "此時每次生成的隨機數因時間差異而不同。\n",
    "'''\n",
    "np.random.seed(1)\n",
    "\n",
    "#x = np.random.randn(4, 3, 3, 2) #產生gray image\n",
    "x = np.random.randn(1, 3, 3, 1) #產生gray image\n",
    "print(x.shape)\n",
    "x_pad = zero_pad(x, 2) # 加兩圈 Pad\n",
    "print (\"x.shape =\", x.shape)\n",
    "print (\"x_pad.shape =\", x_pad.shape)\n",
    "#print (\"x[1,1] =\", x[1,1])\n",
    "#print (\"x_pad[1,1] =\", x_pad[1,1])\n",
    "print (\"x[0,1,1,0] =\", x[0,1,1,0])\n",
    "print (\"x_pad[0,1,1,0] =\", x_pad[0,1,1,0])\n",
    "fig, axarr = plt.subplots(1, 2)\n",
    "axarr[0].set_title('x')\n",
    "axarr[0].imshow(x[0,:,:,0])\n",
    "axarr[1].set_title('x_pad')\n",
    "axarr[1].imshow(x_pad[0,:,:,0])"
   ]
  },
  {
   "cell_type": "markdown",
   "metadata": {},
   "source": [
    "Padding 設定調整"
   ]
  },
  {
   "cell_type": "code",
   "execution_count": 5,
   "metadata": {},
   "outputs": [],
   "source": [
    "# GRADED FUNCTION: zero_pad\n",
    "def zero_padding(X, pad, pad_val=0):\n",
    "    \"\"\"\n",
    "    對image X 做 zero-padding. \n",
    "    參數定義如下:\n",
    "    X -- python numpy array, 呈現維度 (n_H, n_W), \n",
    "         n_H: 圖高, n_W: 圖寬\n",
    "    pad -- 整數, 加幾圈的 zero padding.\n",
    "    Returns:\n",
    "    X_pad -- image of shape (n_H + 2*pad, n_W + 2*pad) 做完zero-padding 的結果\n",
    "    \"\"\"\n",
    "    \n",
    "    X_pad = np.pad(X, (pad, pad), 'constant', constant_values=(pad_val, pad_val))\n",
    "  \n",
    "    return X_pad"
   ]
  },
  {
   "cell_type": "code",
   "execution_count": 6,
   "metadata": {},
   "outputs": [],
   "source": [
    "# ref: https://stackoverflow.com/questions/37435369/matplotlib-how-to-draw-a-rectangle-on-image\n",
    "# ref: cmap https://scipy-cookbook.readthedocs.io/items/Matplotlib_Show_colormaps.html\n",
    "\n",
    "from sklearn import datasets, metrics\n",
    "\n",
    "import matplotlib.pyplot as plt\n",
    "%matplotlib inline\n",
    "\n",
    "digits = datasets.load_digits()\n",
    "\n",
    "def plot_pad_numbers(pad_ring=0, pad_val = 0, show_img_cnts = 10):\n",
    "    n_cols = 5\n",
    "    n_rows = (max(0, show_img_cnts-1) // n_cols) + 1\n",
    "\n",
    "    print(f\"{'-'*60}\") \n",
    "    fig, axes = plt.subplots(n_rows, n_cols)\n",
    "    for (i, ax) in zip(range(show_img_cnts), axes.ravel()):\n",
    "        img_raw = digits.data.reshape(-1, 8, 8)[i]\n",
    "        ax.imshow(img_raw, cmap=plt.cm.binary)\n",
    "        ax.set_aspect('equal')\n",
    "        ax.autoscale(False)\n",
    "        ax.set_xticks([])\n",
    "        ax.set_yticks([])\n",
    "        fig.tight_layout()\n",
    "    plt.show()\n",
    "\n",
    "    print(f\"{'-'*60}\")    \n",
    "    plt.gcf().clear()\n",
    "    fig, axes = plt.subplots(n_rows, n_cols)\n",
    "    for (i, ax) in zip(range(show_img_cnts), axes.ravel()):\n",
    "        img_pad = zero_padding(digits.data.reshape(-1, 8, 8)[i], pad_ring, pad_val=pad_val)\n",
    "        ax.matshow(img_pad, cmap=plt.cm.binary)\n",
    "        ax.set_aspect('equal')\n",
    "        ax.set_xticks([])\n",
    "        ax.set_yticks([])\n",
    "        ax.autoscale(False)\n",
    "        fig.tight_layout()\n",
    "    plt.show()\n"
   ]
  },
  {
   "cell_type": "code",
   "execution_count": 7,
   "metadata": {},
   "outputs": [],
   "source": [
    "def plot_pad_image(img_raw, pad_ring=0, pad_val = 0):\n",
    "    print(f\"{'-'*60}\")    \n",
    "    data = img_pad = zero_padding(img_raw, pad_ring, pad_val=pad_val)\n",
    "    heatmap = plt.pcolor(img_pad, cmap=\"gray_r\")    # reverse: color+'_r'\n",
    "\n",
    "    for y in range(data.shape[0]):\n",
    "        for x in range(data.shape[1]):\n",
    "            plt.text(x + 0.5, y + 0.5, f'{data[y, x]:.0f}',\n",
    "                     horizontalalignment='center',\n",
    "                     verticalalignment='center',\n",
    "                     bbox=dict(facecolor='white', alpha=0.3),\n",
    "                     )\n",
    "\n",
    "    plt.xticks([])\n",
    "    plt.yticks([])\n",
    "    plt.show()"
   ]
  },
  {
   "cell_type": "code",
   "execution_count": 8,
   "metadata": {},
   "outputs": [
    {
     "name": "stdout",
     "output_type": "stream",
     "text": [
      "========================= pad size = 1 =========================\n",
      "------------------------------------------------------------\n"
     ]
    },
    {
     "data": {
      "image/png": "[encoded data removed]",
      "text/plain": [
       "<Figure size 432x288 with 10 Axes>"
      ]
     },
     "metadata": {},
     "output_type": "display_data"
    },
    {
     "name": "stdout",
     "output_type": "stream",
     "text": [
      "------------------------------------------------------------\n"
     ]
    },
    {
     "data": {
      "text/plain": [
       "<Figure size 432x288 with 0 Axes>"
      ]
     },
     "metadata": {},
     "output_type": "display_data"
    },
    {
     "data": {
      "image/png": "[encoded data removed]",
      "text/plain": [
       "<Figure size 432x288 with 10 Axes>"
      ]
     },
     "metadata": {},
     "output_type": "display_data"
    },
    {
     "name": "stdout",
     "output_type": "stream",
     "text": [
      "............................................................\n",
      "------------------------------------------------------------\n"
     ]
    },
    {
     "data": {
      "image/png": "[encoded data removed]",
      "text/plain": [
       "<Figure size 432x288 with 1 Axes>"
      ]
     },
     "metadata": {},
     "output_type": "display_data"
    },
    {
     "name": "stdout",
     "output_type": "stream",
     "text": [
      "\n",
      "========================= pad size = 2 =========================\n",
      "------------------------------------------------------------\n"
     ]
    },
    {
     "data": {
      "image/png": "[encoded data removed]",
      "text/plain": [
       "<Figure size 432x288 with 10 Axes>"
      ]
     },
     "metadata": {},
     "output_type": "display_data"
    },
    {
     "name": "stdout",
     "output_type": "stream",
     "text": [
      "------------------------------------------------------------\n"
     ]
    },
    {
     "data": {
      "text/plain": [
       "<Figure size 432x288 with 0 Axes>"
      ]
     },
     "metadata": {},
     "output_type": "display_data"
    },
    {
     "data": {
      "image/png": "[encoded data removed]",
      "text/plain": [
       "<Figure size 432x288 with 10 Axes>"
      ]
     },
     "metadata": {},
     "output_type": "display_data"
    },
    {
     "name": "stdout",
     "output_type": "stream",
     "text": [
      "............................................................\n",
      "------------------------------------------------------------\n"
     ]
    },
    {
     "data": {
      "image/png": "[encoded data removed]",
      "text/plain": [
       "<Figure size 432x288 with 1 Axes>"
      ]
     },
     "metadata": {},
     "output_type": "display_data"
    },
    {
     "name": "stdout",
     "output_type": "stream",
     "text": [
      "\n",
      "========================= pad size = 3 =========================\n",
      "------------------------------------------------------------\n"
     ]
    },
    {
     "data": {
      "image/png": "[encoded data removed]",
      "text/plain": [
       "<Figure size 432x288 with 10 Axes>"
      ]
     },
     "metadata": {},
     "output_type": "display_data"
    },
    {
     "name": "stdout",
     "output_type": "stream",
     "text": [
      "------------------------------------------------------------\n"
     ]
    },
    {
     "data": {
      "text/plain": [
       "<Figure size 432x288 with 0 Axes>"
      ]
     },
     "metadata": {},
     "output_type": "display_data"
    },
    {
     "data": {
      "image/png": "[encoded data removed]",
      "text/plain": [
       "<Figure size 432x288 with 10 Axes>"
      ]
     },
     "metadata": {},
     "output_type": "display_data"
    },
    {
     "name": "stdout",
     "output_type": "stream",
     "text": [
      "............................................................\n",
      "------------------------------------------------------------\n"
     ]
    },
    {
     "data": {
      "image/png": "[encoded data removed]",
      "text/plain": [
       "<Figure size 432x288 with 1 Axes>"
      ]
     },
     "metadata": {},
     "output_type": "display_data"
    },
    {
     "name": "stdout",
     "output_type": "stream",
     "text": [
      "\n"
     ]
    }
   ],
   "source": [
    "for pad_ring in range(1, 4):\n",
    "    print(f\"{'='*25} pad size = {pad_ring} {'='*25}\")\n",
    "    plot_pad_numbers(pad_ring=pad_ring)\n",
    "    print('.'*60)\n",
    "    plot_pad_image(digits.data.reshape(-1, 8, 8)[0], pad_ring=pad_ring)\n",
    "    print()\n"
   ]
  },
  {
   "cell_type": "markdown",
   "metadata": {},
   "source": [
    "Pooling 設定調整"
   ]
  },
  {
   "cell_type": "code",
   "execution_count": 9,
   "metadata": {},
   "outputs": [],
   "source": [
    "# GRADED FUNCTION: pool_forward\n",
    "def pool_forward(A_prev, hparameters, mode = \"max\"):\n",
    "    \"\"\"\n",
    "    設計一個前行網路的池化層\n",
    "    參數定義如下:\n",
    "    A_prev -- 輸入的numpy 陣列, 維度 (m, n_H_prev, n_W_prev, n_C_prev)\n",
    "    hparameter 超參數 --  \"f\" and \"stride\" 所形成的python 字典\n",
    "    mode -- 池化的模式: \"max\" or \"average\"\n",
    "    \n",
    "    返回:\n",
    "        A -- 輸出的池化層, 維度為 (m, n_H, n_W, n_C) 的 numpy 陣列\n",
    "        cache -- 可以應用在 backward pass pooling layer 資料, 包含 input and hparameter\n",
    "    \"\"\"\n",
    "\n",
    "    # 檢索尺寸 from the input shape\n",
    "    (m, n_H_prev, n_W_prev, n_C_prev) = A_prev.shape\n",
    " \n",
    "    # 檢索超參數 from \"hparameters\"\n",
    "    f = hparameters[\"f\"]\n",
    "    stride = hparameters[\"stride\"]\n",
    "\n",
    "    # 定義輸出的dimensions\n",
    "    n_H = int(1 + (n_H_prev - f) / stride)\n",
    "    n_W = int(1 + (n_W_prev - f) / stride)\n",
    "    n_C = n_C_prev\n",
    "\n",
    "    # 初始化輸出的 matrix A\n",
    "    A = np.zeros((m, n_H, n_W, n_C))\n",
    "\n",
    "    ### 程式起始位置  ###\n",
    "    for i in range(m): # 訓練樣本的for 迴圈\n",
    "        for h in range(n_H): # 輸出樣本的for 迴圈, 針對vertical axis\n",
    "            for w in range(n_W): #  輸出樣本的for 迴圈, 針對 horizontal axis\n",
    "                for c in range (n_C): #  輸出樣本的for 迴圈, 針對channels\n",
    "\n",
    "                     # 找出特徵圖的寬度跟高度四個點\n",
    "                    vert_start = h * stride\n",
    "                    vert_end = h * stride+ f\n",
    "                    horiz_start = w * stride\n",
    "                    horiz_end = w * stride + f\n",
    "\n",
    "                    # 定義第i個訓練示例\n",
    "                    a_prev_slice = A_prev[i, vert_start:vert_end, horiz_start:horiz_end,c]\n",
    "\n",
    "                    # 計算輸入data 的池化結果. 使用 if statment 去做分類\n",
    "                    if mode == \"max\":\n",
    "                        A[i, h, w, c] = np.max(a_prev_slice)\n",
    "                    elif mode == \"average\":\n",
    "                        A[i, h, w, c] = np.mean(a_prev_slice)\n",
    "\n",
    "                        ### 程式結束  ###\n",
    "    \n",
    "    # 儲存輸入的特徵圖跟所設定的超參數, 可以用在 pool_backward()\n",
    "    cache = (A_prev, hparameters)\n",
    "    \n",
    "    # 確認輸出的資料維度\n",
    "    assert(A.shape == (m, n_H, n_W, n_C))\n",
    "    return A, cache"
   ]
  },
  {
   "cell_type": "code",
   "execution_count": 10,
   "metadata": {},
   "outputs": [
    {
     "name": "stdout",
     "output_type": "stream",
     "text": [
      "\n",
      "\n",
      "============================================================\n",
      "\n",
      "{'f': 2, 'stride': 1}\n",
      "\n",
      "raw image\n",
      "[[ 0.  0.  5. 13.  9.  1.  0.  0.]\n",
      " [ 0.  0. 13. 15. 10. 15.  5.  0.]\n",
      " [ 0.  3. 15.  2.  0. 11.  8.  0.]\n",
      " [ 0.  4. 12.  0.  0.  8.  8.  0.]\n",
      " [ 0.  5.  8.  0.  0.  9.  8.  0.]\n",
      " [ 0.  4. 11.  0.  1. 12.  7.  0.]\n",
      " [ 0.  2. 14.  5. 10. 12.  0.  0.]\n",
      " [ 0.  0.  6. 13. 10.  0.  0.  0.]]\n",
      "mode = max\n",
      "==>\n",
      "[[ 0. 13. 15. 15. 15. 15.  5.]\n",
      " [ 3. 15. 15. 15. 15. 15.  8.]\n",
      " [ 4. 15. 15.  2. 11. 11.  8.]\n",
      " [ 5. 12. 12.  0.  9.  9.  8.]\n",
      " [ 5. 11. 11.  1. 12. 12.  8.]\n",
      " [ 4. 14. 14. 10. 12. 12.  7.]\n",
      " [ 2. 14. 14. 13. 12. 12.  0.]]\n",
      "\n",
      "mode = average\n",
      "==>\n",
      "[[ 0.    4.5  11.5  11.75  8.75  5.25  1.25]\n",
      " [ 0.75  7.75 11.25  6.75  9.    9.75  3.25]\n",
      " [ 1.75  8.5   7.25  0.5   4.75  8.75  4.  ]\n",
      " [ 2.25  7.25  5.    0.    4.25  8.25  4.  ]\n",
      " [ 2.25  7.    4.75  0.25  5.5   9.    3.75]\n",
      " [ 1.5   7.75  7.5   4.    8.75  7.75  1.75]\n",
      " [ 0.5   5.5   9.5   9.5   8.    3.    0.  ]]\n",
      "\n",
      "\n",
      "============================================================\n",
      "\n",
      "{'f': 2, 'stride': 2}\n",
      "\n",
      "raw image\n",
      "[[ 0.  0.  5. 13.  9.  1.  0.  0.]\n",
      " [ 0.  0. 13. 15. 10. 15.  5.  0.]\n",
      " [ 0.  3. 15.  2.  0. 11.  8.  0.]\n",
      " [ 0.  4. 12.  0.  0.  8.  8.  0.]\n",
      " [ 0.  5.  8.  0.  0.  9.  8.  0.]\n",
      " [ 0.  4. 11.  0.  1. 12.  7.  0.]\n",
      " [ 0.  2. 14.  5. 10. 12.  0.  0.]\n",
      " [ 0.  0.  6. 13. 10.  0.  0.  0.]]\n",
      "mode = max\n",
      "==>\n",
      "[[ 0. 15. 15.  5.]\n",
      " [ 4. 15. 11.  8.]\n",
      " [ 5. 11. 12.  8.]\n",
      " [ 2. 14. 12.  0.]]\n",
      "\n",
      "mode = average\n",
      "==>\n",
      "[[ 0.   11.5   8.75  1.25]\n",
      " [ 1.75  7.25  4.75  4.  ]\n",
      " [ 2.25  4.75  5.5   3.75]\n",
      " [ 0.5   9.5   8.    0.  ]]\n",
      "\n",
      "\n",
      "============================================================\n",
      "\n",
      "{'f': 2, 'stride': 3}\n",
      "\n",
      "raw image\n",
      "[[ 0.  0.  5. 13.  9.  1.  0.  0.]\n",
      " [ 0.  0. 13. 15. 10. 15.  5.  0.]\n",
      " [ 0.  3. 15.  2.  0. 11.  8.  0.]\n",
      " [ 0.  4. 12.  0.  0.  8.  8.  0.]\n",
      " [ 0.  5.  8.  0.  0.  9.  8.  0.]\n",
      " [ 0.  4. 11.  0.  1. 12.  7.  0.]\n",
      " [ 0.  2. 14.  5. 10. 12.  0.  0.]\n",
      " [ 0.  0.  6. 13. 10.  0.  0.  0.]]\n",
      "mode = max\n",
      "==>\n",
      "[[ 0. 15.  5.]\n",
      " [ 5.  0.  8.]\n",
      " [ 2. 13.  0.]]\n",
      "\n",
      "mode = average\n",
      "==>\n",
      "[[ 0.   11.75  1.25]\n",
      " [ 2.25  0.    4.  ]\n",
      " [ 0.5   9.5   0.  ]]\n",
      "\n",
      "\n",
      "============================================================\n",
      "\n",
      "{'f': 3, 'stride': 1}\n",
      "\n",
      "raw image\n",
      "[[ 0.  0.  5. 13.  9.  1.  0.  0.]\n",
      " [ 0.  0. 13. 15. 10. 15.  5.  0.]\n",
      " [ 0.  3. 15.  2.  0. 11.  8.  0.]\n",
      " [ 0.  4. 12.  0.  0.  8.  8.  0.]\n",
      " [ 0.  5.  8.  0.  0.  9.  8.  0.]\n",
      " [ 0.  4. 11.  0.  1. 12.  7.  0.]\n",
      " [ 0.  2. 14.  5. 10. 12.  0.  0.]\n",
      " [ 0.  0.  6. 13. 10.  0.  0.  0.]]\n",
      "mode = max\n",
      "==>\n",
      "[[15. 15. 15. 15. 15. 15.]\n",
      " [15. 15. 15. 15. 15. 15.]\n",
      " [15. 15. 15. 11. 11. 11.]\n",
      " [12. 12. 12. 12. 12. 12.]\n",
      " [14. 14. 14. 12. 12. 12.]\n",
      " [14. 14. 14. 13. 12. 12.]]\n",
      "\n",
      "mode = average\n",
      "==>\n",
      "[[4.         7.33333333 9.11111111 8.44444444 6.55555556 4.44444444]\n",
      " [5.22222222 7.11111111 7.44444444 6.77777778 7.22222222 6.11111111]\n",
      " [5.22222222 5.44444444 4.11111111 3.33333333 5.77777778 5.77777778]\n",
      " [4.88888889 4.88888889 3.55555556 3.33333333 5.88888889 5.77777778]\n",
      " [4.88888889 5.44444444 5.44444444 5.44444444 6.55555556 5.33333333]\n",
      " [4.11111111 6.11111111 7.77777778 7.         5.77777778 3.44444444]]\n",
      "\n",
      "\n",
      "============================================================\n",
      "\n",
      "{'f': 3, 'stride': 2}\n",
      "\n",
      "raw image\n",
      "[[ 0.  0.  5. 13.  9.  1.  0.  0.]\n",
      " [ 0.  0. 13. 15. 10. 15.  5.  0.]\n",
      " [ 0.  3. 15.  2.  0. 11.  8.  0.]\n",
      " [ 0.  4. 12.  0.  0.  8.  8.  0.]\n",
      " [ 0.  5.  8.  0.  0.  9.  8.  0.]\n",
      " [ 0.  4. 11.  0.  1. 12.  7.  0.]\n",
      " [ 0.  2. 14.  5. 10. 12.  0.  0.]\n",
      " [ 0.  0.  6. 13. 10.  0.  0.  0.]]\n",
      "mode = max\n",
      "==>\n",
      "[[15. 15. 15.]\n",
      " [15. 15. 11.]\n",
      " [14. 14. 12.]]\n",
      "\n",
      "mode = average\n",
      "==>\n",
      "[[4.         9.11111111 6.55555556]\n",
      " [5.22222222 4.11111111 5.77777778]\n",
      " [4.88888889 5.44444444 6.55555556]]\n",
      "\n",
      "\n",
      "============================================================\n",
      "\n",
      "{'f': 3, 'stride': 3}\n",
      "\n",
      "raw image\n",
      "[[ 0.  0.  5. 13.  9.  1.  0.  0.]\n",
      " [ 0.  0. 13. 15. 10. 15.  5.  0.]\n",
      " [ 0.  3. 15.  2.  0. 11.  8.  0.]\n",
      " [ 0.  4. 12.  0.  0.  8.  8.  0.]\n",
      " [ 0.  5.  8.  0.  0.  9.  8.  0.]\n",
      " [ 0.  4. 11.  0.  1. 12.  7.  0.]\n",
      " [ 0.  2. 14.  5. 10. 12.  0.  0.]\n",
      " [ 0.  0.  6. 13. 10.  0.  0.  0.]]\n",
      "mode = max\n",
      "==>\n",
      "[[15. 15.]\n",
      " [12. 12.]]\n",
      "\n",
      "mode = average\n",
      "==>\n",
      "[[4.         8.44444444]\n",
      " [4.88888889 3.33333333]]\n",
      "\n",
      "\n",
      "============================================================\n",
      "\n",
      "{'f': 4, 'stride': 1}\n",
      "\n",
      "raw image\n",
      "[[ 0.  0.  5. 13.  9.  1.  0.  0.]\n",
      " [ 0.  0. 13. 15. 10. 15.  5.  0.]\n",
      " [ 0.  3. 15.  2.  0. 11.  8.  0.]\n",
      " [ 0.  4. 12.  0.  0.  8.  8.  0.]\n",
      " [ 0.  5.  8.  0.  0.  9.  8.  0.]\n",
      " [ 0.  4. 11.  0.  1. 12.  7.  0.]\n",
      " [ 0.  2. 14.  5. 10. 12.  0.  0.]\n",
      " [ 0.  0.  6. 13. 10.  0.  0.  0.]]\n",
      "mode = max\n",
      "==>\n",
      "[[15. 15. 15. 15. 15.]\n",
      " [15. 15. 15. 15. 15.]\n",
      " [15. 15. 15. 12. 12.]\n",
      " [14. 14. 14. 12. 12.]\n",
      " [14. 14. 14. 13. 12.]]\n",
      "\n",
      "mode = average\n",
      "==>\n",
      "[[5.125  6.3125 8.0625 6.5625 4.6875]\n",
      " [4.8125 5.4375 7.375  6.1875 5.125 ]\n",
      " [4.     4.0625 5.5625 4.625  4.5   ]\n",
      " [4.0625 4.75   6.375  5.     4.6875]\n",
      " [4.25   5.5625 6.9375 5.4375 4.3125]]\n",
      "\n",
      "\n",
      "============================================================\n",
      "\n",
      "{'f': 4, 'stride': 2}\n",
      "\n",
      "raw image\n",
      "[[ 0.  0.  5. 13.  9.  1.  0.  0.]\n",
      " [ 0.  0. 13. 15. 10. 15.  5.  0.]\n",
      " [ 0.  3. 15.  2.  0. 11.  8.  0.]\n",
      " [ 0.  4. 12.  0.  0.  8.  8.  0.]\n",
      " [ 0.  5.  8.  0.  0.  9.  8.  0.]\n",
      " [ 0.  4. 11.  0.  1. 12.  7.  0.]\n",
      " [ 0.  2. 14.  5. 10. 12.  0.  0.]\n",
      " [ 0.  0.  6. 13. 10.  0.  0.  0.]]\n",
      "mode = max\n",
      "==>\n",
      "[[15. 15. 15.]\n",
      " [15. 15. 12.]\n",
      " [14. 14. 12.]]\n",
      "\n",
      "mode = average\n",
      "==>\n",
      "[[5.125  8.0625 4.6875]\n",
      " [4.     5.5625 4.5   ]\n",
      " [4.25   6.9375 4.3125]]\n",
      "\n",
      "\n",
      "============================================================\n",
      "\n",
      "{'f': 4, 'stride': 3}\n",
      "\n",
      "raw image\n",
      "[[ 0.  0.  5. 13.  9.  1.  0.  0.]\n",
      " [ 0.  0. 13. 15. 10. 15.  5.  0.]\n",
      " [ 0.  3. 15.  2.  0. 11.  8.  0.]\n",
      " [ 0.  4. 12.  0.  0.  8.  8.  0.]\n",
      " [ 0.  5.  8.  0.  0.  9.  8.  0.]\n",
      " [ 0.  4. 11.  0.  1. 12.  7.  0.]\n",
      " [ 0.  2. 14.  5. 10. 12.  0.  0.]\n",
      " [ 0.  0.  6. 13. 10.  0.  0.  0.]]\n",
      "mode = max\n",
      "==>\n",
      "[[15. 15.]\n",
      " [14. 12.]]\n",
      "\n",
      "mode = average\n",
      "==>\n",
      "[[5.125  6.5625]\n",
      " [4.0625 5.    ]]\n"
     ]
    }
   ],
   "source": [
    "raw_img = digits.data.reshape(-1, 8, 8)[0]\n",
    "img = raw_img.reshape(1, 8, 8, 1)\n",
    "\n",
    "opts_stride = [1, 2, 3]\n",
    "opts_f      = [2, 3, 4]\n",
    "for f in opts_f:\n",
    "    for stride in opts_stride:\n",
    "        hparameters = {\"f\": f, \"stride\" : stride}\n",
    "        \n",
    "        print(f\"\\n\\n{'='*60}\")\n",
    "        print()\n",
    "        print(hparameters)\n",
    "        print()\n",
    "\n",
    "        print(\"raw image\")\n",
    "        print(f\"{raw_img}\")\n",
    "\n",
    "        A_prev = img\n",
    "        pooled_img, cache = pool_forward(A_prev, hparameters)\n",
    "        print(\"mode = max\")\n",
    "        w = pooled_img.shape[1]\n",
    "        h = pooled_img.shape[2]\n",
    "        print(f\"==>\\n{pooled_img.reshape(w,h)}\")\n",
    "\n",
    "        print()\n",
    "        pooled_img, cache = pool_forward(A_prev, hparameters, mode = \"average\")\n",
    "        print(\"mode = average\")\n",
    "        w = pooled_img.shape[1]\n",
    "        h = pooled_img.shape[2]\n",
    "        print(f\"==>\\n{pooled_img.reshape(w,h)}\")\n"
   ]
  },
  {
   "cell_type": "code",
   "execution_count": null,
   "metadata": {},
   "outputs": [],
   "source": []
  }
 ],
 "metadata": {
  "kernelspec": {
   "display_name": "Python 3",
   "language": "python",
   "name": "python3"
  },
  "language_info": {
   "codemirror_mode": {
    "name": "ipython",
    "version": 3
   },
   "file_extension": ".py",
   "mimetype": "text/x-python",
   "name": "python",
   "nbconvert_exporter": "python",
   "pygments_lexer": "ipython3",
   "version": "3.6.8"
  }
 },
 "nbformat": 4,
 "nbformat_minor": 2
}
