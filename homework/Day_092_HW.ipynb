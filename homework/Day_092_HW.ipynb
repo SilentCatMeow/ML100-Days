{
 "cells": [
  {
   "cell_type": "markdown",
   "metadata": {},
   "source": [
    "請閱讀以下文獻，理解 CNN 原理後回答問題\n",
    "- [卷積神經網路原理 - 中文](https://brohrer.mcknote.com/zh-Hant/how_machine_learning_works/how_convolutional_neural_networks_work.html)\n",
    "- [CNN for beginner’s guide](https://adeshpande3.github.io/A-Beginner%27s-Guide-To-Understanding-Convolutional-Neural-Networks/)\n",
    "\n",
    "1. 若使用總共 128 個濾波器 (filters)，對一張 256x256 的影像做完卷積後，共會得到幾張特徵圖 (feature maps)？\n",
    "> Ans: 128 feature maps or 128*3 feature maps <br/>\n",
    "> - 原則上單一影像通過一個濾波器 (filter) 卷積處理後產生一張對應的特徵圖 (feature map)<br/>\n",
    "> - 而對單一彩色影像r,g,b三色通道，若獨立做卷積則會得到三張各色通道對應的特徵圖<br/>\n",
    "> (ref: Day096 ppt p5 <cite>對影像的三個通道獨立做卷積，得到三張特徵圖</cite>) <br/>\n",
    "> - 但Conv2D卷積層會自動將三色通道合併處理成單一特徵圖<br/>\n",
    "(ref: Day094 ppt p7~p8 <cite>多個通道(channels)的卷積作法 ; <br/>Conv2D 合併 (4\\*4\\*3) \\* (3\\*3\\*3) = (2\\*2\\*1) )</cite>  <br/>\n",
    "2. 卷積神經網路中，濾波器的大小 (3x3 or 5x5) 與內部數字的值 (value) 是怎麼決定的呢？\n",
    "> Ans:  \n",
    "> 濾波器的大小 (3x3 or 5x5) 由人為方式選取輸入參數設定 \n",
    "> - [keras.layers.Conv2D](https://keras.io/layers/convolutional/)   \n",
    ">    kernel_size: An integer or tuple/list of a single integer, specifying the length of the 1D convolution window. \n",
    ">  \n",
    "> 各濾波器內部數字的值 (value) 則經由資料學習訓練由網路權重參數產生  "
   ]
  },
  {
   "cell_type": "code",
   "execution_count": null,
   "metadata": {},
   "outputs": [],
   "source": []
  }
 ],
 "metadata": {
  "kernelspec": {
   "display_name": "Python 3",
   "language": "python",
   "name": "python3"
  },
  "language_info": {
   "codemirror_mode": {
    "name": "ipython",
    "version": 3
   },
   "file_extension": ".py",
   "mimetype": "text/x-python",
   "name": "python",
   "nbconvert_exporter": "python",
   "pygments_lexer": "ipython3",
   "version": "3.6.8"
  }
 },
 "nbformat": 4,
 "nbformat_minor": 2
}
