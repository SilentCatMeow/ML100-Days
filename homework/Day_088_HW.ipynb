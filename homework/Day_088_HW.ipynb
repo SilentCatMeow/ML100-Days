{
 "cells": [
  {
   "cell_type": "markdown",
   "metadata": {},
   "source": [
    "## Work\n",
    "1. 請嘗試寫一個 callback 用來記錄各類別在訓練過程中，對驗證集的 True Positive 與 True Negative"
   ]
  },
  {
   "cell_type": "code",
   "execution_count": 1,
   "metadata": {},
   "outputs": [
    {
     "name": "stderr",
     "output_type": "stream",
     "text": [
      "Using TensorFlow backend.\n"
     ]
    }
   ],
   "source": [
    "import os\n",
    "import keras\n",
    "\n",
    "# Disable GPU\n",
    "#os.environ[\"CUDA_VISIBLE_DEVICES\"] = \"\""
   ]
  },
  {
   "cell_type": "code",
   "execution_count": 2,
   "metadata": {},
   "outputs": [],
   "source": [
    "train, test = keras.datasets.cifar10.load_data()"
   ]
  },
  {
   "cell_type": "code",
   "execution_count": 3,
   "metadata": {},
   "outputs": [],
   "source": [
    "## 資料前處理\n",
    "def preproc_x(x, flatten=True):\n",
    "    x = x / 255.\n",
    "    if flatten:\n",
    "        x = x.reshape((len(x), -1))\n",
    "    return x\n",
    "\n",
    "def preproc_y(y, num_classes=10):\n",
    "    if y.shape[-1] == 1:\n",
    "        y = keras.utils.to_categorical(y, num_classes)\n",
    "    return y    "
   ]
  },
  {
   "cell_type": "code",
   "execution_count": 4,
   "metadata": {},
   "outputs": [],
   "source": [
    "x_train, y_train = train\n",
    "x_test, y_test = test\n",
    "\n",
    "# Preproc the inputs\n",
    "x_train = preproc_x(x_train)\n",
    "x_test = preproc_x(x_test)\n",
    "\n",
    "# Preprc the outputs\n",
    "y_train = preproc_y(y_train)\n",
    "y_test = preproc_y(y_test)"
   ]
  },
  {
   "cell_type": "code",
   "execution_count": 5,
   "metadata": {},
   "outputs": [],
   "source": [
    "from keras.layers import BatchNormalization\n",
    "\n",
    "def build_mlp(input_shape, output_units=10, num_neurons=[512, 256, 128]):\n",
    "    input_layer = keras.layers.Input(input_shape)\n",
    "    \n",
    "    x = input_layer\n",
    "    for i, n_units in enumerate(num_neurons):\n",
    "        x = keras.layers.Dense(units=n_units, \n",
    "                               activation=\"relu\", \n",
    "                               name=\"hidden_layer\"+str(i+1))(x)\n",
    "        x = BatchNormalization()(x)\n",
    "    \n",
    "    out = keras.layers.Dense(units=output_units, activation=\"softmax\", name=\"output\")(x)\n",
    "    \n",
    "    model = keras.models.Model(inputs=[input_layer], outputs=[out])\n",
    "    \n",
    "    return model"
   ]
  },
  {
   "cell_type": "code",
   "execution_count": 6,
   "metadata": {},
   "outputs": [],
   "source": [
    "## 超參數設定\n",
    "LEARNING_RATE = 1e-3\n",
    "EPOCHS = 25\n",
    "BATCH_SIZE = 1024\n",
    "MOMENTUM = 0.95"
   ]
  },
  {
   "cell_type": "code",
   "execution_count": 7,
   "metadata": {},
   "outputs": [],
   "source": [
    "from sklearn.metrics import confusion_matrix\n",
    "import numpy as np\n",
    "\n",
    "# 載入 Callbacks\n",
    "from keras.callbacks import Callback\n",
    "\n",
    "# ref: https://github.com/scikit-learn/scikit-learn/blob/7b136e9/sklearn/metrics/classification.py#L1273\n",
    "# ref: https://scikit-learn.org/stable/modules/generated/sklearn.metrics.confusion_matrix.html\n",
    "# ref: https://www.zhihu.com/question/53294625\n",
    "# Record_fp_tp\n",
    "class Record_tp_tn(Callback):\n",
    "    \"\"\"Define a callback function to collect tp/tn, named Record_fp_tp.\n",
    "    \"\"\"\n",
    "    def on_train_begin(self, epoch, logs = {}):\n",
    "        logs = logs or {}\n",
    "        #record_items = [\"val_auc\", \"val_f1sc\", \"val_fp\", \"val_fn\", \"val_tp\", \"val_tn\"]\n",
    "        record_items = [\"val_tp\", \"val_tn\", \"val_tp_acc\"]\n",
    "        for i in record_items:\n",
    "            if i not in self.params['metrics']:\n",
    "                self.params['metrics'].append(i)\n",
    "    \n",
    "    def on_epoch_end(self, epoch, logs = {}, thres=0.5):\n",
    "        logs = logs or {}\n",
    "\n",
    "        y_true = self.validation_data[1].argmax(axis = 1)\n",
    "        y_pred = self.model.predict(self.validation_data[0])\n",
    "        #y_pred = (y_pred[:, 1] >= thres) * 1\n",
    "        y_pred = np.argmax(y_pred, axis = 1)\n",
    "\n",
    "        '''\n",
    "        # (binary classification only)\n",
    "        # ref: https://scikit-learn.org/stable/modules/model_evaluation.html#precision-recall-f-measure-metrics\n",
    "        tn, fp, fn, tp = confusion_matrix(y_true, y_pred).ravel()\n",
    "        '''\n",
    "        \n",
    "        ## true positive\n",
    "        tp = np.count_nonzero(y_true == y_pred)\n",
    "\n",
    "        ## true negative\n",
    "        tn = np.count_nonzero(y_true != y_pred)\n",
    "\n",
    "        # y_true always be True, no False case\n",
    "        ## false negative\n",
    "        #fn = 0\n",
    "        ## false positive\n",
    "        #fp = 0\n",
    "\n",
    "        # val_tp: (validation_set) True Positive\n",
    "        # val_tn: (validation_set) True Negative\n",
    "        \n",
    "        tp_acc  = (1.0*tp) / len(y_pred)  # = \"val_acc\"\n",
    "        \n",
    "        logs[\"val_tp\"] = tp\n",
    "        logs[\"val_tn\"] = tn\n",
    "        logs[\"val_tp_acc\"]  = tp_acc\n",
    "        \n",
    "        print(f\"\\tval_tp = {tp}  val_tn = {tn}  val_tp_acc = {tp_acc}\")\n",
    "        \n",
    "rec_tptn = Record_tp_tn()"
   ]
  },
  {
   "cell_type": "code",
   "execution_count": 8,
   "metadata": {
    "scrolled": true
   },
   "outputs": [
    {
     "name": "stdout",
     "output_type": "stream",
     "text": [
      "WARNING:tensorflow:From C:\\AI_course\\Anaconda3\\lib\\site-packages\\tensorflow\\python\\framework\\op_def_library.py:263: colocate_with (from tensorflow.python.framework.ops) is deprecated and will be removed in a future version.\n",
      "Instructions for updating:\n",
      "Colocations handled automatically by placer.\n",
      "_________________________________________________________________\n",
      "Layer (type)                 Output Shape              Param #   \n",
      "=================================================================\n",
      "input_1 (InputLayer)         (None, 3072)              0         \n",
      "_________________________________________________________________\n",
      "hidden_layer1 (Dense)        (None, 512)               1573376   \n",
      "_________________________________________________________________\n",
      "batch_normalization_1 (Batch (None, 512)               2048      \n",
      "_________________________________________________________________\n",
      "hidden_layer2 (Dense)        (None, 256)               131328    \n",
      "_________________________________________________________________\n",
      "batch_normalization_2 (Batch (None, 256)               1024      \n",
      "_________________________________________________________________\n",
      "hidden_layer3 (Dense)        (None, 128)               32896     \n",
      "_________________________________________________________________\n",
      "batch_normalization_3 (Batch (None, 128)               512       \n",
      "_________________________________________________________________\n",
      "output (Dense)               (None, 10)                1290      \n",
      "=================================================================\n",
      "Total params: 1,742,474\n",
      "Trainable params: 1,740,682\n",
      "Non-trainable params: 1,792\n",
      "_________________________________________________________________\n",
      "WARNING:tensorflow:From C:\\AI_course\\Anaconda3\\lib\\site-packages\\tensorflow\\python\\ops\\math_ops.py:3066: to_int32 (from tensorflow.python.ops.math_ops) is deprecated and will be removed in a future version.\n",
      "Instructions for updating:\n",
      "Use tf.cast instead.\n",
      "Train on 50000 samples, validate on 10000 samples\n",
      "Epoch 1/25\n",
      "50000/50000 [==============================] - 11s 218us/step - loss: 2.1748 - acc: 0.2768 - val_loss: 2.0355 - val_acc: 0.3247\n",
      "\tval_tp = 3247  val_tn = 6753  val_tp_acc = 0.3247\n",
      "Epoch 2/25\n",
      "50000/50000 [==============================] - 9s 179us/step - loss: 1.7345 - acc: 0.3950 - val_loss: 1.7907 - val_acc: 0.3865\n",
      "\tval_tp = 3865  val_tn = 6135  val_tp_acc = 0.3865\n",
      "Epoch 3/25\n",
      "50000/50000 [==============================] - 9s 178us/step - loss: 1.6131 - acc: 0.4354 - val_loss: 1.6857 - val_acc: 0.4131\n",
      "\tval_tp = 4131  val_tn = 5869  val_tp_acc = 0.4131\n",
      "Epoch 4/25\n",
      "50000/50000 [==============================] - 9s 183us/step - loss: 1.5402 - acc: 0.4614 - val_loss: 1.6422 - val_acc: 0.4251\n",
      "\tval_tp = 4251  val_tn = 5749  val_tp_acc = 0.4251\n",
      "Epoch 5/25\n",
      "50000/50000 [==============================] - 10s 190us/step - loss: 1.4853 - acc: 0.4815 - val_loss: 1.5964 - val_acc: 0.4391\n",
      "\tval_tp = 4391  val_tn = 5609  val_tp_acc = 0.4391\n",
      "Epoch 6/25\n",
      "50000/50000 [==============================] - 9s 182us/step - loss: 1.4394 - acc: 0.4992 - val_loss: 1.5613 - val_acc: 0.4507\n",
      "\tval_tp = 4507  val_tn = 5493  val_tp_acc = 0.4507\n",
      "Epoch 7/25\n",
      "50000/50000 [==============================] - 9s 183us/step - loss: 1.4009 - acc: 0.5135 - val_loss: 1.5337 - val_acc: 0.4642\n",
      "\tval_tp = 4642  val_tn = 5358  val_tp_acc = 0.4642\n",
      "Epoch 8/25\n",
      "50000/50000 [==============================] - 9s 180us/step - loss: 1.3660 - acc: 0.5258 - val_loss: 1.5141 - val_acc: 0.4635\n",
      "\tval_tp = 4635  val_tn = 5365  val_tp_acc = 0.4635\n",
      "Epoch 9/25\n",
      "50000/50000 [==============================] - 9s 180us/step - loss: 1.3322 - acc: 0.5382 - val_loss: 1.5019 - val_acc: 0.4693\n",
      "\tval_tp = 4693  val_tn = 5307  val_tp_acc = 0.4693\n",
      "Epoch 10/25\n",
      "50000/50000 [==============================] - 9s 184us/step - loss: 1.3034 - acc: 0.5468 - val_loss: 1.5079 - val_acc: 0.4660\n",
      "\tval_tp = 4660  val_tn = 5340  val_tp_acc = 0.466\n",
      "Epoch 11/25\n",
      "50000/50000 [==============================] - 9s 188us/step - loss: 1.2760 - acc: 0.5587 - val_loss: 1.4829 - val_acc: 0.4787\n",
      "\tval_tp = 4787  val_tn = 5213  val_tp_acc = 0.4787\n",
      "Epoch 12/25\n",
      "50000/50000 [==============================] - 9s 182us/step - loss: 1.2471 - acc: 0.5678 - val_loss: 1.4782 - val_acc: 0.4799\n",
      "\tval_tp = 4799  val_tn = 5201  val_tp_acc = 0.4799\n",
      "Epoch 13/25\n",
      "50000/50000 [==============================] - 10s 192us/step - loss: 1.2234 - acc: 0.5773 - val_loss: 1.4886 - val_acc: 0.4752\n",
      "\tval_tp = 4752  val_tn = 5248  val_tp_acc = 0.4752\n",
      "Epoch 14/25\n",
      "50000/50000 [==============================] - 9s 183us/step - loss: 1.1977 - acc: 0.5885 - val_loss: 1.4671 - val_acc: 0.4868\n",
      "\tval_tp = 4868  val_tn = 5132  val_tp_acc = 0.4868\n",
      "Epoch 15/25\n",
      "50000/50000 [==============================] - 9s 184us/step - loss: 1.1730 - acc: 0.5984 - val_loss: 1.4723 - val_acc: 0.4842\n",
      "\tval_tp = 4842  val_tn = 5158  val_tp_acc = 0.4842\n",
      "Epoch 16/25\n",
      "50000/50000 [==============================] - 9s 182us/step - loss: 1.1497 - acc: 0.6057 - val_loss: 1.4653 - val_acc: 0.4914\n",
      "\tval_tp = 4914  val_tn = 5086  val_tp_acc = 0.4914\n",
      "Epoch 17/25\n",
      "50000/50000 [==============================] - 9s 180us/step - loss: 1.1257 - acc: 0.6156 - val_loss: 1.4499 - val_acc: 0.4898\n",
      "\tval_tp = 4898  val_tn = 5102  val_tp_acc = 0.4898\n",
      "Epoch 18/25\n",
      "50000/50000 [==============================] - 9s 177us/step - loss: 1.1048 - acc: 0.6244 - val_loss: 1.4461 - val_acc: 0.4961\n",
      "\tval_tp = 4961  val_tn = 5039  val_tp_acc = 0.4961\n",
      "Epoch 19/25\n",
      "50000/50000 [==============================] - 10s 200us/step - loss: 1.0815 - acc: 0.6332 - val_loss: 1.4438 - val_acc: 0.5001\n",
      "\tval_tp = 5001  val_tn = 4999  val_tp_acc = 0.5001\n",
      "Epoch 20/25\n",
      "50000/50000 [==============================] - 10s 196us/step - loss: 1.0586 - acc: 0.6399 - val_loss: 1.4669 - val_acc: 0.4881\n",
      "\tval_tp = 4881  val_tn = 5119  val_tp_acc = 0.4881\n",
      "Epoch 21/25\n",
      "50000/50000 [==============================] - 10s 192us/step - loss: 1.0381 - acc: 0.6496 - val_loss: 1.4515 - val_acc: 0.4927\n",
      "\tval_tp = 4927  val_tn = 5073  val_tp_acc = 0.4927\n",
      "Epoch 22/25\n",
      "50000/50000 [==============================] - 9s 178us/step - loss: 1.0157 - acc: 0.6564 - val_loss: 1.4491 - val_acc: 0.4988\n",
      "\tval_tp = 4988  val_tn = 5012  val_tp_acc = 0.4988\n",
      "Epoch 23/25\n",
      "50000/50000 [==============================] - 9s 178us/step - loss: 0.9942 - acc: 0.6664 - val_loss: 1.4631 - val_acc: 0.4926\n",
      "\tval_tp = 4926  val_tn = 5074  val_tp_acc = 0.4926\n",
      "Epoch 24/25\n",
      "50000/50000 [==============================] - 9s 179us/step - loss: 0.9728 - acc: 0.6737 - val_loss: 1.4604 - val_acc: 0.4963\n",
      "\tval_tp = 4963  val_tn = 5037  val_tp_acc = 0.4963\n",
      "Epoch 25/25\n",
      "50000/50000 [==============================] - 9s 178us/step - loss: 0.9537 - acc: 0.6808 - val_loss: 1.4690 - val_acc: 0.4973\n",
      "\tval_tp = 4973  val_tn = 5027  val_tp_acc = 0.4973\n"
     ]
    }
   ],
   "source": [
    "model = build_mlp(input_shape=x_train.shape[1:])\n",
    "model.summary()\n",
    "optimizer = keras.optimizers.SGD(lr=LEARNING_RATE, nesterov=True, momentum=MOMENTUM)\n",
    "model.compile(loss=\"categorical_crossentropy\", metrics=[\"accuracy\"], optimizer=optimizer)\n",
    "\n",
    "\"\"\"\n",
    "Fit the model with rec_tptn callback_fn\n",
    "\"\"\"\n",
    "model.fit(x_train, y_train, \n",
    "          epochs=EPOCHS, \n",
    "          batch_size=BATCH_SIZE, \n",
    "          validation_data=(x_test, y_test), \n",
    "          shuffle=True,\n",
    "          callbacks=[rec_tptn]\n",
    "         )\n",
    "\n",
    "# Collect results\n",
    "train_loss = model.history.history[\"loss\"]\n",
    "valid_loss = model.history.history[\"val_loss\"]\n",
    "train_acc = model.history.history[\"acc\"]\n",
    "valid_acc = model.history.history[\"val_acc\"]\n",
    "\n",
    "\"\"\"\n",
    "Collect tp/tn from model history\n",
    "\"\"\"\n",
    "valid_tp = model.history.history[\"val_tp\"]\n",
    "valid_tn = model.history.history[\"val_tn\"]"
   ]
  },
  {
   "cell_type": "code",
   "execution_count": 9,
   "metadata": {},
   "outputs": [
    {
     "data": {
      "image/png": "[encoded data removed]",
      "text/plain": [
       "<Figure size 432x288 with 1 Axes>"
      ]
     },
     "metadata": {
      "needs_background": "light"
     },
     "output_type": "display_data"
    },
    {
     "data": {
      "image/png": "[encoded data removed]",
      "text/plain": [
       "<Figure size 432x288 with 1 Axes>"
      ]
     },
     "metadata": {
      "needs_background": "light"
     },
     "output_type": "display_data"
    },
    {
     "data": {
      "image/png": "[encoded data removed]",
      "text/plain": [
       "<Figure size 432x288 with 1 Axes>"
      ]
     },
     "metadata": {
      "needs_background": "light"
     },
     "output_type": "display_data"
    }
   ],
   "source": [
    "import matplotlib.pyplot as plt\n",
    "%matplotlib inline\n",
    "\n",
    "plt.plot(range(len(train_loss)), train_loss, label=\"train loss\")\n",
    "plt.plot(range(len(valid_loss)), valid_loss, label=\"valid loss\")\n",
    "plt.legend()\n",
    "plt.title(\"Loss\")\n",
    "plt.show()\n",
    "\n",
    "plt.plot(range(len(train_acc)), train_acc, label=\"train accuracy\")\n",
    "plt.plot(range(len(valid_acc)), valid_acc, label=\"valid accuracy\")\n",
    "plt.legend()\n",
    "plt.title(\"Accuracy\")\n",
    "plt.show()\n",
    "\n",
    "plt.plot(range(len(valid_tp)), valid_tp, label=\"valid tp\", color=\"navy\")\n",
    "plt.plot(range(len(valid_tn)), valid_tn, label=\"valid tn\", color=\"red\")\n",
    "plt.legend()\n",
    "plt.title(\"True positives and True Negatives\")\n",
    "plt.show()\n"
   ]
  }
 ],
 "metadata": {
  "kernelspec": {
   "display_name": "Python 3",
   "language": "python",
   "name": "python3"
  },
  "language_info": {
   "codemirror_mode": {
    "name": "ipython",
    "version": 3
   },
   "file_extension": ".py",
   "mimetype": "text/x-python",
   "name": "python",
   "nbconvert_exporter": "python",
   "pygments_lexer": "ipython3",
   "version": "3.6.8"
  }
 },
 "nbformat": 4,
 "nbformat_minor": 2
}
