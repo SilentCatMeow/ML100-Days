{
 "cells": [
  {
   "cell_type": "markdown",
   "metadata": {},
   "source": [
    "# 作業\n",
    "* 試著想想看, 非監督學習是否有可能使用評價函數 (Metric) 來鑑別好壞呢?  \n",
    "(Hint : 可以分為 \"有目標值\" 與 \"無目標值\" 兩個方向思考)"
   ]
  },
  {
   "cell_type": "markdown",
   "metadata": {
    "collapsed": true
   },
   "source": [
    "有目標值：  \n",
    "> 非監督學習並不一定都沒有學習樣本目標值，在有目標值狀況下可用預估準確率鑑別學習模型好壞， <br/>\n",
    "> 但非監督學習預測出之標籤分類可能與原始資料標籤值不等同 <br/>\n",
    "> Day 55 作業即為以 K-means 非監督學習方式學習有目標值之 iris 分類資料集<br/>\n",
    "\n",
    "無目標值：  \n",
    "> 在無目標值情況下，非監督學習仍可使用適合的評價函數 (Metric) 來鑑別好壞。 <br/> \n",
    "> 以聚類Clustering來說，評價函數目標為追求下列兩項指標: <br/>\n",
    "> - 同簇相似性：同簇内越相近越好 <br/>\n",
    "> - 簇間差異性：不同簇間越不同越好 <br/>\n",
    "\n",
    "> Day 56 作業即為以輪廓係數分析(Silhouette Coefficient)方式評價 K-means 非監督學習方式學習 <br/> \n",
    "\n",
    "> [sklearn.metrics.silhouette_score](https://scikit-learn.org/stable/modules/generated/sklearn.metrics.silhouette_score.html)  <br/>\n",
    "> [Clustering performance evaluation (2.3.9)](https://scikit-learn.org/stable/modules/clustering.html#clustering-evaluation)  <br/>\n",
    "> 以下有許多評價函數 (Metric) API (含非監督學習): [sklearn.metrics: Metrics](https://scikit-learn.org/stable/modules/classes.html#module-sklearn.metrics)  <br/>"
   ]
  },
  {
   "cell_type": "code",
   "execution_count": null,
   "metadata": {},
   "outputs": [],
   "source": []
  }
 ],
 "metadata": {
  "kernelspec": {
   "display_name": "Python 3",
   "language": "python",
   "name": "python3"
  },
  "language_info": {
   "codemirror_mode": {
    "name": "ipython",
    "version": 3
   },
   "file_extension": ".py",
   "mimetype": "text/x-python",
   "name": "python",
   "nbconvert_exporter": "python",
   "pygments_lexer": "ipython3",
   "version": "3.7.0"
  }
 },
 "nbformat": 4,
 "nbformat_minor": 1
}
