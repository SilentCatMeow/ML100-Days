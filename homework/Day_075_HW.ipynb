{
 "cells": [
  {
   "cell_type": "markdown",
   "metadata": {
    "colab_type": "text",
    "id": "RKWQIzOrYh1Y"
   },
   "source": [
    "# 作業: \n",
    "3  層神經網路\n",
    "\n",
    "通過增加更多的中間層，以對更多關係的組合進行建模\n",
    "\n",
    "syn1 權值矩陣將隱層的組合輸出映射到最終結果，\n",
    "\n",
    "而在更新 syn1 的同時，還需要更新 syn0 權值矩陣，\n",
    "\n",
    "以從輸入資料中更好地產生這些組合"
   ]
  },
  {
   "cell_type": "markdown",
   "metadata": {
    "colab_type": "text",
    "id": "2qlmtNgHYh1b"
   },
   "source": [
    "# BP 演算法訓練的神經網路\n",
    "\n",
    "\n",
    "目標: 嘗試著用輸入去預測輸出\n",
    " \n",
    "考慮以上情形：\n",
    "給定三列輸入，試著去預測對應的一列輸出。\n",
    "\n",
    "我們可以通過簡單測量輸入與輸出值的資料來解決這一問題。\n",
    "\n",
    "最左邊的一列輸入值和輸出值是完美匹配/完全相關的。\n",
    "\n",
    "反向傳播演算法便是通過這種方式來衡量資料間統計關係進而得到模型的。\n"
   ]
  },
  {
   "cell_type": "markdown",
   "metadata": {
    "colab_type": "text",
    "id": "DiYzRPqsYh1c"
   },
   "source": [
    "# 更新3 Layers 所需參數定義\n",
    "\n",
    "X 輸入資料集，形式為矩陣，每 1 行代表 1 個訓練樣本。\n",
    "\n",
    "y 輸出資料集，形式為矩陣，每 1 行代表 1 個訓練樣本。\n",
    "\n",
    "l0 網路第 1 層，即網路輸入層。\n",
    "\n",
    "l1 網路第 2 層，常稱作隱藏層。\n",
    "\n",
    "l2 假定為網路最後一層，隨著訓練進行，其輸出應該逐漸接近正確結果\n",
    "\n",
    "syn0 第一層權值\n",
    "\n",
    "syn1 第二層權值\n",
    "\n",
    "l2_error 該值說明了神經網路預測時“丟失”的數目。\n",
    "\n",
    "l2_delta 該值為經確信度加權後的神經網路的誤差，除了確信誤差很小時，它近似等於預測誤差。\n",
    "\n",
    "l1_error 該值為 l2_delta 經 syn1 加權後的結果，從而能夠計算得到中間層/隱層的誤差。\n",
    "\n",
    "l1_delta 該值為經確信度加權後的神經網路 l1 層的誤差，除了確信誤差很小時，它近似等於 l1_error 。"
   ]
  },
  {
   "cell_type": "code",
   "execution_count": 1,
   "metadata": {
    "colab": {},
    "colab_type": "code",
    "id": "588t-eEHYh1d"
   },
   "outputs": [],
   "source": [
    "import numpy as np\n",
    " \n",
    "# Sigmoid 函數可以將任何值都映射到一個位於 0 到  1 範圍內的值。通過它，我們可以將實數轉化為概率值\n",
    "#def nonlin(x,deriv=False):\n",
    "#    if(deriv==True):\n",
    "#        return x*(1-x)\n",
    "#    return 1/(1+np.exp(-x))\n",
    "\n",
    "activator = sigmoid   = lambda x: 1/(1+np.exp(-x))       \n",
    "gradient  = d_sigmoid = lambda x: x*(1-x)                \n",
    "\n",
    "X = np.array([  [0,0,1],\n",
    "                [0,1,1],\n",
    "                [1,0,1],\n",
    "                [1,1,1] ])  \n",
    "        \n",
    "# define y for output dataset \n",
    "# ref: Day_075-Back_Propagation.ipynb\n",
    "y = np.array([[0,0,1,1]]).T\n"
   ]
  },
  {
   "cell_type": "code",
   "execution_count": 2,
   "metadata": {
    "colab": {},
    "colab_type": "code",
    "id": "qw8SMfiZYh1l"
   },
   "outputs": [
    {
     "name": "stdout",
     "output_type": "stream",
     "text": [
      "X.shape=(4, 3)\n",
      "syn0.shape=(3, 2)\n",
      "syn1.shape=(2, 1)\n",
      "y.shape=(4, 1)\n",
      "L1 = (4, 2)\n",
      "L2 = (4, 1)\n"
     ]
    }
   ],
   "source": [
    "\n",
    "# seed random numbers to make calculation\n",
    "# deterministic (just a good practice)\n",
    "np.random.seed(1)\n",
    "#亂數設定產生種子得到的權重初始化集仍是隨機分佈的，\n",
    "#但每次開始訓練時，得到的權重初始集分佈都是完全一致的。\n",
    " \n",
    "# initialize weights randomly with mean 0\n",
    "\n",
    "# [-1.0, 1.0)\n",
    "# define syn0\n",
    "syn0 = 2*np.random.random((3,2)) - 1\n",
    "# define syn1\n",
    "syn1 = 2*np.random.random((2,1)) - 1\n",
    "\n",
    "iter = 0\n",
    "\n",
    "#該神經網路權重矩陣的初始化操作。\n",
    "#用 “syn0” 來代指 (即“輸入層-第一層隱層”間權重矩陣）\n",
    "#用 “syn1” 來代指 (即“輸入層-第二層隱層”間權重矩陣）\n",
    "\n",
    "# L0 (Input Layer)        = (4, 3)\n",
    "# syn0 (Weight L0 - L1)   = (3, 2)\n",
    "# L1 (Hidden Layer 1)     = (4, 2) = (4, 3) dot (3, 2)\n",
    "# syn1 (Weight L1 - L2)   = (2, 1)\n",
    "# L2 (Output Layer)       = (4, 1) = (4, 2) dot (2, 1)\n",
    "# L2 (Output Layer)       = (4, 3) dot (3, 2) dot (2, 1) = (4, 1)\n",
    "# y  (Target Output)      = (4, 1)\n",
    "\n",
    "print(f'X.shape={X.shape}')\n",
    "print(f'syn0.shape={syn0.shape}')\n",
    "print(f'syn1.shape={syn1.shape}')\n",
    "print(f'y.shape={y.shape}')\n",
    "\n",
    "l0 = X\n",
    "l1 = np.dot(l0,syn0)\n",
    "print(f'L1 = {np.dot(l0,syn0).shape}')\n",
    "print(f'L2 = {np.dot(l1,syn1).shape}')\n"
   ]
  },
  {
   "cell_type": "markdown",
   "metadata": {
    "colab_type": "text",
    "id": "1ubmvWa8Yh1o"
   },
   "source": [
    "神經網路訓練  \n",
    "for 迴圈反覆運算式地多次執行訓練代碼，使得我們的網路能更好地擬合訓練集\n",
    "\n",
    "ref:  \n",
    "[Listing 1.3 Training the ANN](https://books.google.com.tw/books?id=Ih2KDwAAQBAJ&pg=PA7&lpg=PA7&dq=l2_delta+%3D+l2_error&source=bl&ots=VPnCugtCyo&sig=ACfU3U1n5MMpgMWXinwxfN11rpvOFu2eWA&hl=zh-TW&sa=X&ved=2ahUKEwi47ubYoZThAhXMurwKHZqyDXYQ6AEwBHoECAcQAQ#v=onepage&q=l2_delta%20%3D%20l2_error&f=false)  \n",
    "[A Neural Network in 11 lines of Python](https://iamtrask.github.io/2015/07/12/basic-python-network/)"
   ]
  },
  {
   "cell_type": "code",
   "execution_count": 3,
   "metadata": {
    "colab": {},
    "colab_type": "code",
    "id": "q6jQQqG0Yh1p"
   },
   "outputs": [
    {
     "name": "stdout",
     "output_type": "stream",
     "text": [
      "Output After Training:\n",
      "[[0.00588212]\n",
      " [0.00489047]\n",
      " [0.99478609]\n",
      " [0.99414829]]\n",
      "\n",
      "\n",
      "Target:\n",
      "[[0]\n",
      " [0]\n",
      " [1]\n",
      " [1]]\n"
     ]
    }
   ],
   "source": [
    "results = []\n",
    "for iter in range(10000):\n",
    "    # forward propagation\n",
    "    l0 = X\n",
    "    # l0 dot syn0 = (4, 3) dot (3, 2) = (4, 2)\n",
    "    l1 = activator(np.dot(l0,syn0))\n",
    "    # l1 dot syn1 = (4, 2) dot (2, 1) = (4, 1)\n",
    "    l2 = activator(np.dot(l1,syn1))\n",
    "    \n",
    "    # Backpropagation\n",
    "    l2_delta = (y - l2) * gradient(l2) \n",
    "    \n",
    "    # l2_delta dot syn1.T = (4, 1) dot (1, 2) = (4, 2)\n",
    "    l1_delta = (np.dot(l2_delta, syn1.T)) * gradient(l1)\n",
    "    \n",
    "    # update weights\n",
    "    # l1.T dot l2_delta(=y) = (2, 4) dot (4, 1) = (2, 1) = syn1\n",
    "    syn1 += np.dot(l1.T, l2_delta)\n",
    "    # l0.T dot l1_delta(=l1) = (3, 4) dot (4, 2) = (3, 2) = syn0\n",
    "    syn0 += np.dot(l0.T, l1_delta)\n",
    "    \n",
    "    results.append(l2)\n",
    "\n",
    "print(\"Output After Training:\")\n",
    "print(l2)\n",
    "print(\"\\n\")\n",
    "print(\"Target:\")\n",
    "print(y)\n"
   ]
  },
  {
   "cell_type": "code",
   "execution_count": 4,
   "metadata": {
    "colab": {},
    "colab_type": "code",
    "id": "Jnl2RXPZYh1r"
   },
   "outputs": [
    {
     "data": {
      "image/png": "[encoded data removed]",
      "text/plain": [
       "<Figure size 720x360 with 1 Axes>"
      ]
     },
     "metadata": {
      "needs_background": "light"
     },
     "output_type": "display_data"
    }
   ],
   "source": [
    "import matplotlib.pyplot as plt\n",
    "%matplotlib inline\n",
    "\n",
    "iters = np.arange(1, len(results)+1, 1)\n",
    "\n",
    "out_nodes = X.shape[0]\n",
    "pred_y = [None] * out_nodes\n",
    "for i in range(0, out_nodes):\n",
    "    pred_y[i] = [result[i][0] for result in results]\n",
    "\n",
    "colors = ['r', 'g', 'b', 'y']\n",
    "plt.figure(figsize=(10,5))\n",
    "\n",
    "for i in range(0, out_nodes):\n",
    "    plt.plot(iters, pred_y[i], color=colors[i], label=f'output_node_{i}: ->{y[i]}')\n",
    "\n",
    "plt.legend(loc='best')\n",
    "\n",
    "plt.xlim(0, 200)\n",
    "\n",
    "plt.show()"
   ]
  },
  {
   "cell_type": "code",
   "execution_count": null,
   "metadata": {},
   "outputs": [],
   "source": []
  }
 ],
 "metadata": {
  "colab": {
   "name": "Day75-Back_Propagation_HW.ipynb",
   "provenance": [],
   "version": "0.3.2"
  },
  "kernelspec": {
   "display_name": "Python 3",
   "language": "python",
   "name": "python3"
  },
  "language_info": {
   "codemirror_mode": {
    "name": "ipython",
    "version": 3
   },
   "file_extension": ".py",
   "mimetype": "text/x-python",
   "name": "python",
   "nbconvert_exporter": "python",
   "pygments_lexer": "ipython3",
   "version": "3.6.8"
  }
 },
 "nbformat": 4,
 "nbformat_minor": 1
}
