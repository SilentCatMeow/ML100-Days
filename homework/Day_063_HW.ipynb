{
 "cells": [
  {
   "cell_type": "code",
   "execution_count": 1,
   "metadata": {},
   "outputs": [],
   "source": [
    "import numpy as np\n",
    "\n",
    "#Input array\n",
    "X = np.array([[1, 0, 1, 0], [1 ,0 ,1 ,1 ],[ 0 , 1 , 0 , 1 ]])\n",
    "\n",
    "#Output\n",
    "y = np.array([[1], [1], [0]])"
   ]
  },
  {
   "cell_type": "code",
   "execution_count": 2,
   "metadata": {},
   "outputs": [],
   "source": [
    "#Sigmoid Function\n",
    "def sigmoid(x): \n",
    "    return  1/(1+np.exp(-x))\n",
    "\n",
    "#Derivative of Sigmoid Function\n",
    "def derivatives_sigmoid(x): \n",
    "    return x*(1-x)"
   ]
  },
  {
   "cell_type": "code",
   "execution_count": 3,
   "metadata": {},
   "outputs": [],
   "source": [
    "#Variable initialization\n",
    "epoch = 5000 #Setting training iterations\n",
    "#epoch = 3\n",
    "lr = 0.1 #Setting learning rate\n",
    "inputlayer_neurons = X.shape[1] #number of features in data set \n",
    "hiddenlayer_neurons = 3 #number of hidden layers neurons\n",
    "output_neurons = 1 #number of neurons at output layer\n",
    "\n",
    "trace_on = False"
   ]
  },
  {
   "cell_type": "code",
   "execution_count": 4,
   "metadata": {},
   "outputs": [],
   "source": [
    "#weight and bias initialization\n",
    "wh = np.random.uniform( size = ( inputlayer_neurons , hiddenlayer_neurons ) ) \n",
    "bh = np.random.uniform( size = ( 1 , hiddenlayer_neurons ) ) \n",
    "wout = np.random.uniform( size = ( hiddenlayer_neurons , output_neurons ) ) \n",
    "bout = np.random.uniform( size = ( 1 , output_neurons ) )"
   ]
  },
  {
   "cell_type": "code",
   "execution_count": 5,
   "metadata": {},
   "outputs": [
    {
     "name": "stdout",
     "output_type": "stream",
     "text": [
      "wh=(4, 3)\n",
      "[[0.5746657  0.54318977 0.49746351]\n",
      " [0.20261826 0.29991002 0.84383694]\n",
      " [0.59708958 0.46361414 0.57072398]\n",
      " [0.01439444 0.94735694 0.08918554]]\n",
      "\n",
      "bh=(1, 3)\n",
      "[[0.03699233 0.85255229 0.61544565]]\n",
      "\n",
      "wout=(3, 1)\n",
      "[[0.48012344]\n",
      " [0.14446833]\n",
      " [0.16555715]]\n",
      "\n",
      "bout=(1, 1)\n",
      "[[0.16128902]]\n",
      "\n"
     ]
    }
   ],
   "source": [
    "print(f\"wh={wh.shape}\\n{wh}\\n\")\n",
    "print(f\"bh={bh.shape}\\n{bh}\\n\")\n",
    "print(f\"wout={wout.shape}\\n{wout}\\n\")\n",
    "print(f\"bout={bout.shape}\\n{bout}\\n\")"
   ]
  },
  {
   "cell_type": "markdown",
   "metadata": {
    "collapsed": true
   },
   "source": [
    "# 作業 \n",
    "* 請參閱範例中的 hidden Layer 寫法, 完成 output Layer 的程式"
   ]
  },
  {
   "cell_type": "code",
   "execution_count": 6,
   "metadata": {},
   "outputs": [
    {
     "name": "stdout",
     "output_type": "stream",
     "text": [
      "final result ====================\n",
      "target output:\n",
      "[[1]\n",
      " [1]\n",
      " [0]]\n",
      "output of Forward Propogation:\n",
      "[[0.97131094]\n",
      " [0.9602634 ]\n",
      " [0.05299598]]\n",
      "wout,bout of Backpropagation:\n",
      "[[ 6.37226597]\n",
      " [-1.11930064]\n",
      " [-0.89433552]],\n",
      "[[-1.23269361]]\n"
     ]
    }
   ],
   "source": [
    "results = []\n",
    "\n",
    "for i in  range ( epoch ) :\n",
    "    #Forward Propogation\n",
    "    hidden_layer_input1 = np.dot(X, wh) \n",
    "    hidden_layer_input = hidden_layer_input1 + bh\n",
    "    hidden_layer_activations = sigmoid( hidden_layer_input ) \n",
    "\n",
    "    output_layer_input1 = np.dot(hidden_layer_activations, wout) \n",
    "    output_layer_input = output_layer_input1 + bout\n",
    "    output = sigmoid( output_layer_input ) \n",
    "    \n",
    "    results.append((i+1, output))\n",
    "    \n",
    "    if trace_on:\n",
    "        print(f\"run={i} {'*'*20}\")\n",
    "        print(f\"wh={wh.shape}\\n{wh}\\n\")\n",
    "        print(f\"bh={bh.shape}\\n{bh}\\n\")\n",
    "        print(f\"wout={wout.shape}\\n{wout}\\n\")\n",
    "        print(f\"bout={bout.shape}\\n{bout}\\n\")\n",
    "    \n",
    "    #Backpropagation\n",
    "    E = y-output\n",
    "    slope_output_layer = derivatives_sigmoid(output)\n",
    "    slope_hidden_layer = derivatives_sigmoid(hidden_layer_activations)\n",
    "    d_output = E * slope_output_layer\n",
    "    Error_at_hidden_layer = d_output.dot(wout.T)\n",
    "    d_hiddenlayer = Error_at_hidden_layer * slope_hidden_layer\n",
    "    wout += hidden_layer_activations.T.dot(d_output) *lr\n",
    "    bout += np.sum(d_output, axis=0,keepdims=True) *lr\n",
    "    wh += X.T.dot(d_hiddenlayer) *lr\n",
    "    bh += np.sum(d_hiddenlayer, axis=0,keepdims=True) *lr    \n",
    "    \n",
    "print(f\"final result {'='*20}\")\n",
    "print(f\"target output:\\n{y}\") \n",
    "print(\"output of Forward Propogation:\\n{}\" .format(output)) \n",
    "print(\"wout,bout of Backpropagation:\\n{},\\n{}\" .format(wout, bout ))"
   ]
  },
  {
   "cell_type": "code",
   "execution_count": 8,
   "metadata": {},
   "outputs": [
    {
     "data": {
      "image/png": "[encoded data removed]",
      "text/plain": [
       "<Figure size 720x360 with 1 Axes>"
      ]
     },
     "metadata": {
      "needs_background": "light"
     },
     "output_type": "display_data"
    }
   ],
   "source": [
    "import matplotlib.pyplot as plt\n",
    "%matplotlib inline\n",
    "\n",
    "(index, output) = zip(*results)\n",
    "(x0, x1, x2) = zip(*output)\n",
    "\n",
    "plt.figure(figsize=(10,5))\n",
    "plt.plot(index, x0, color='r', label='output_node_0')\n",
    "plt.plot(index, x1, color='g', label='output_node_1')\n",
    "plt.plot(index, x2, color='b', label='output_node_2')\n",
    "plt.legend(loc='best')\n",
    "\n",
    "plt.show()"
   ]
  },
  {
   "cell_type": "markdown",
   "metadata": {
    "collapsed": true
   },
   "source": [
    "ref:\n",
    "[Backpropagation](https://gist.github.com/CamilleMo/273158a7d1dac1d70f181cb48594d4f8)"
   ]
  }
 ],
 "metadata": {
  "kernelspec": {
   "display_name": "Python 3",
   "language": "python",
   "name": "python3"
  },
  "language_info": {
   "codemirror_mode": {
    "name": "ipython",
    "version": 3
   },
   "file_extension": ".py",
   "mimetype": "text/x-python",
   "name": "python",
   "nbconvert_exporter": "python",
   "pygments_lexer": "ipython3",
   "version": "3.7.0"
  }
 },
 "nbformat": 4,
 "nbformat_minor": 2
}
